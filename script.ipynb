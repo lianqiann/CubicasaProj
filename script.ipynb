{
 "cells": [
  {
   "cell_type": "code",
   "execution_count": 15,
   "metadata": {},
   "outputs": [],
   "source": [
    "\n",
    "from skimage import transform\n",
    "import numpy as np\n",
    "import torch\n",
    "import torch.nn.functional as F\n",
    "from torch.utils.data import DataLoader\n",
    "from floortrans.loaders import FloorplanSVG, DictToTensor, Compose, RotateNTurns\n"
   ]
  },
  {
   "cell_type": "code",
   "execution_count": 26,
   "metadata": {},
   "outputs": [],
   "source": [
    "data_folder = 'data/cubicasa5k/'\n",
    "data_file = 'val.txt'\n",
    "training_set = FloorplanSVG(data_folder, data_file, format='txt', original_size=True)\n",
    "room_classes = [\"Background\", \"Outdoor\", \"Wall\", \"Kitchen\", \"Living Room\" ,\"Bed Room\", \"Bath\", \"Entry\", \"Railing\", \"Storage\", \"Garage\", \"Undefined\"]\n",
    "rooms = [\"Outdoor\", \"Kitchen\", \"Living Room\" ,\"Bed Room\", \"Bath\", \"Entry\", \"Storage\", \"Garage\", \"Undefined\"]\n",
    "room_ids = [1,3,4,5,6,7,9,10,11]\n",
    "room_labels = {rooms[i]:i+1 for i in range(len(rooms))}"
   ]
  },
  {
   "cell_type": "code",
   "execution_count": 28,
   "metadata": {},
   "outputs": [
    {
     "data": {
      "application/vnd.jupyter.widget-view+json": {
       "model_id": "23831507cc524234b966f39aa560d35a",
       "version_major": 2,
       "version_minor": 0
      },
      "text/plain": [
       "HBox(children=(IntProgress(value=0, max=400), HTML(value='')))"
      ]
     },
     "metadata": {},
     "output_type": "display_data"
    }
   ],
   "source": [
    "import copy\n",
    "import cv2\n",
    "from tqdm import tqdm_notebook as tqdm\n",
    "instance_info = {}\n",
    "\n",
    "for i in tqdm(range(len(training_set))):\n",
    "    item = training_set.get_txt(i)\n",
    "    masks = item['label'][0].data.numpy()\n",
    "    \n",
    "    H,W = masks.shape\n",
    "    boxes = []\n",
    "    labels = []\n",
    "    num_obj = 0\n",
    "    \n",
    "    mask_tensor = []\n",
    "    areas = []\n",
    "    \n",
    "    for r in room_ids:\n",
    "        x = copy.copy(masks)\n",
    "        x[masks != r] = 0 \n",
    "        x = x.astype(np.uint8)\n",
    "        #plt.imshow(x)\n",
    "        #plt.show()\n",
    "        contours, _ = cv2.findContours(x,cv2.RETR_LIST,cv2.CHAIN_APPROX_SIMPLE)\n",
    "        \n",
    "        for tcnt in contours: \n",
    "            \n",
    "            img = np.zeros((H,W,3), np.uint8)\n",
    "            img = cv2.drawContours(img, [tcnt], -1, (255,255,255), -1)\n",
    "            mask_tensor.append((img[:,:,0]/255).astype(np.int8))\n",
    "            areas.append(cv2.contourArea(tcnt,False) )\n",
    "            x,y,w,h = cv2.boundingRect(tcnt)\n",
    "            boxes.append([x,y,x+w,y+h])\n",
    "            labels.append(room_labels[room_classes[r]])\n",
    "            num_obj+=1\n",
    "    \n",
    "    boxes = torch.FloatTensor(boxes)\n",
    "    labels = torch.FloatTensor(labels).int()\n",
    "    image_id = torch.ones(1, dtype=torch.uint8)*i\n",
    "    areas = torch.FloatTensor(areas)\n",
    "    \n",
    "    try:\n",
    "        mask_tensor = torch.from_numpy(np.stack(mask_tensor, 0))\n",
    "    except:\n",
    "        mask_tensor = torch.FloatTensor([])\n",
    "    \n",
    "        \n",
    "    \n",
    "    instance_info[item['folder']] ={'boxes': boxes, 'labels':labels, 'image_id':image_id,\n",
    "                                'area':areas, 'iscrowd':torch.zeros(num_obj,dtype=torch.uint8) ,\\\n",
    "                                'masks': mask_tensor}\n",
    "    \n",
    "    \n",
    "    \n",
    "    \n",
    "#save the file\n",
    "torch.save(instance_info, 'data/cubicasa5k/instance_info_val.pt')\n",
    "\n"
   ]
  },
  {
   "cell_type": "code",
   "execution_count": null,
   "metadata": {},
   "outputs": [],
   "source": []
  }
 ],
 "metadata": {
  "kernelspec": {
   "display_name": "Python 3",
   "language": "python",
   "name": "python3"
  },
  "language_info": {
   "codemirror_mode": {
    "name": "ipython",
    "version": 3
   },
   "file_extension": ".py",
   "mimetype": "text/x-python",
   "name": "python",
   "nbconvert_exporter": "python",
   "pygments_lexer": "ipython3",
   "version": "3.7.0"
  }
 },
 "nbformat": 4,
 "nbformat_minor": 2
}
